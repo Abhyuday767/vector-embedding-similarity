{
 "cells": [
  {
   "cell_type": "code",
   "execution_count": 8,
   "id": "6b39e335",
   "metadata": {},
   "outputs": [],
   "source": [
    "import numpy as np\n",
    "import gensim.downloader as api"
   ]
  },
  {
   "cell_type": "code",
   "execution_count": 9,
   "id": "8a9dc46a",
   "metadata": {},
   "outputs": [
    {
     "name": "stdout",
     "output_type": "stream",
     "text": [
      "Loading GloVe model (this may take a few seconds)...\n",
      "GloVe model loaded.\n"
     ]
    }
   ],
   "source": [
    "print(\"Loading GloVe model (this may take a few seconds)...\")\n",
    "glove_model = api.load(\"glove-wiki-gigaword-100\")\n",
    "print(\"GloVe model loaded.\")\n"
   ]
  },
  {
   "cell_type": "code",
   "execution_count": 16,
   "id": "46ce1afb",
   "metadata": {},
   "outputs": [],
   "source": [
    "words = [\n",
    "    'apple', 'apples', 'pear', 'berry', 'peas',\n",
    "    'strawberry', 'peach', 'potato', 'grape'\n",
    "]\n",
    "\n",
    "\n",
    "vectors = {}\n",
    "missing_words = []\n",
    "for word in words:\n",
    "    if word in glove_model:\n",
    "        vectors[word] = glove_model[word]\n",
    "    else:\n",
    "        missing_words.append(word)\n",
    "\n",
    "if missing_words:\n",
    "    print(\"Words not found in GloVe:\", missing_words)\n"
   ]
  },
  {
   "cell_type": "code",
   "execution_count": 17,
   "id": "1f4ef34f",
   "metadata": {},
   "outputs": [],
   "source": [
    "def cosine_similarity(v1, v2):\n",
    "    if np.linalg.norm(v1) == 0 or np.linalg.norm(v2) == 0:\n",
    "        return 0.0\n",
    "    return np.dot(v1, v2) / (np.linalg.norm(v1) * np.linalg.norm(v2))"
   ]
  },
  {
   "cell_type": "code",
   "execution_count": 39,
   "id": "d28134a3",
   "metadata": {},
   "outputs": [],
   "source": [
    "q = \"pear\"\n",
    "q_vec = vectors[q]\n",
    "\n",
    "similarities = []\n",
    "for word, vec in vectors.items():\n",
    "    if word == q:\n",
    "        continue\n",
    "    score = cosine_similarity(q_vec, vec)\n",
    "    similarities.append((word, score))"
   ]
  },
  {
   "cell_type": "code",
   "execution_count": 40,
   "id": "475d2702",
   "metadata": {},
   "outputs": [
    {
     "name": "stdout",
     "output_type": "stream",
     "text": [
      "\n",
      "Top 3 most similar words to 'pear':\n",
      "1. peach — Similarity: 0.7705\n",
      "2. apples — Similarity: 0.6245\n",
      "3. apple — Similarity: 0.5890\n"
     ]
    }
   ],
   "source": [
    "similarities.sort(key=lambda x: x[1], reverse=True)\n",
    "top = 3\n",
    "print(f\"\\nTop {top} most similar words to '{q}':\")\n",
    "for i, (word, score) in enumerate(similarities[:top], 1):\n",
    "    print(f\"{i}. {word} — Similarity: {score:.4f}\")"
   ]
  }
 ],
 "metadata": {
  "kernelspec": {
   "display_name": "Python 3 (ipykernel)",
   "language": "python",
   "name": "python3"
  },
  "language_info": {
   "codemirror_mode": {
    "name": "ipython",
    "version": 3
   },
   "file_extension": ".py",
   "mimetype": "text/x-python",
   "name": "python",
   "nbconvert_exporter": "python",
   "pygments_lexer": "ipython3",
   "version": "3.11.5"
  }
 },
 "nbformat": 4,
 "nbformat_minor": 5
}
